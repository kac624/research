{
 "cells": [
  {
   "cell_type": "code",
   "execution_count": 1,
   "id": "eea426e0-2630-4775-9689-5a0b5022f7fe",
   "metadata": {},
   "outputs": [],
   "source": [
    "import torch\n",
    "import torch_directml"
   ]
  },
  {
   "cell_type": "code",
   "execution_count": 2,
   "id": "6c123eff-0fde-413c-92cf-f94ba0cbd9c6",
   "metadata": {},
   "outputs": [],
   "source": [
    "gpu = torch_directml.device()"
   ]
  },
  {
   "cell_type": "code",
   "execution_count": 3,
   "id": "e69afa01-3b5c-49b7-8f64-fd4dbc2530c7",
   "metadata": {},
   "outputs": [
    {
     "data": {
      "text/plain": [
       "device(type='privateuseone', index=0)"
      ]
     },
     "execution_count": 3,
     "metadata": {},
     "output_type": "execute_result"
    }
   ],
   "source": [
    "gpu"
   ]
  },
  {
   "cell_type": "code",
   "execution_count": 4,
   "id": "29e33162-13dd-411d-b24e-d35134c3468f",
   "metadata": {},
   "outputs": [],
   "source": [
    "t1 = torch.tensor([1]).to(gpu)\n",
    "t2 = torch.tensor([2]).to(gpu)"
   ]
  },
  {
   "cell_type": "code",
   "execution_count": 5,
   "id": "103417b0-dcad-46fb-9802-7cda522736e2",
   "metadata": {},
   "outputs": [
    {
     "data": {
      "text/plain": [
       "3"
      ]
     },
     "execution_count": 5,
     "metadata": {},
     "output_type": "execute_result"
    }
   ],
   "source": [
    "calc = t1 + t2\n",
    "calc.item()"
   ]
  },
  {
   "cell_type": "code",
   "execution_count": 6,
   "id": "084ca578-d94e-46fd-b994-5630443fba28",
   "metadata": {},
   "outputs": [
    {
     "data": {
      "text/plain": [
       "0"
      ]
     },
     "execution_count": 6,
     "metadata": {},
     "output_type": "execute_result"
    }
   ],
   "source": [
    "t1.get_device()"
   ]
  },
  {
   "cell_type": "markdown",
   "id": "e0927473-5d11-40b8-b454-6a475f952be6",
   "metadata": {},
   "source": [
    "# Examples"
   ]
  },
  {
   "cell_type": "markdown",
   "id": "c9a03e57-ccfa-43fe-9e30-713b1c3b879d",
   "metadata": {},
   "source": [
    "https://towardsdatascience.com/understanding-pytorch-with-an-example-a-step-by-step-tutorial-81fc5f8c4e8e#dc96"
   ]
  },
  {
   "cell_type": "markdown",
   "id": "e551e073-0fea-4e9b-912f-317f1de5ecd9",
   "metadata": {},
   "source": [
    "## Linear Regression"
   ]
  },
  {
   "cell_type": "code",
   "execution_count": 7,
   "id": "ca5c8f67-9a32-46ad-873d-f22935a16d41",
   "metadata": {},
   "outputs": [],
   "source": [
    "import numpy as np"
   ]
  },
  {
   "cell_type": "code",
   "execution_count": 8,
   "id": "3dfd02b5-4e6a-4057-bb13-c6929c8d1fa2",
   "metadata": {},
   "outputs": [],
   "source": [
    "np.random.seed(42)\n",
    "x = np.random.rand(100, 1)\n",
    "y = 1 + 2 * x + 0.1 * np.random.randn(100, 1)\n",
    "\n",
    "# Shuffles the indices\n",
    "idx = np.arange(100)\n",
    "np.random.shuffle(idx)\n",
    "\n",
    "# Uses first 80 random indices for train\n",
    "train_idx = idx[:80]\n",
    "# Uses remainder for validation\n",
    "val_idx = idx[80:]\n",
    "\n",
    "# Generates train and validation sets\n",
    "x_train, y_train = x[train_idx], y[train_idx]\n",
    "x_val, y_val = x[val_idx], y[val_idx]"
   ]
  },
  {
   "cell_type": "markdown",
   "id": "c33e86f9-b06e-42e9-8afb-a4e0ebf6b439",
   "metadata": {},
   "source": [
    "### First Using Numpy Only"
   ]
  },
  {
   "cell_type": "code",
   "execution_count": 9,
   "id": "58214c81-97a5-4d7d-aefe-06c75df15ae6",
   "metadata": {},
   "outputs": [
    {
     "name": "stdout",
     "output_type": "stream",
     "text": [
      "[0.49671415] [-0.1382643]\n"
     ]
    }
   ],
   "source": [
    "# Initializes parameters \"a\" and \"b\" randomly\n",
    "np.random.seed(42)\n",
    "a = np.random.randn(1)\n",
    "b = np.random.randn(1)\n",
    "print(a, b)"
   ]
  },
  {
   "cell_type": "code",
   "execution_count": 10,
   "id": "4cdaf437-2f89-4562-b946-69724069893f",
   "metadata": {},
   "outputs": [
    {
     "name": "stdout",
     "output_type": "stream",
     "text": [
      "[1.02354094] [1.96896411]\n"
     ]
    }
   ],
   "source": [
    "# Set Learning Rate and Epochs\n",
    "lr = 1e-1\n",
    "n_epochs = 1000\n",
    "\n",
    "for epoch in range(n_epochs):\n",
    "    # Compute predicted output\n",
    "    yhat = a + b * x_train\n",
    "\n",
    "    # Computes Loss (MSE)\n",
    "    error = (y_train - yhat)\n",
    "    loss = (error ** 2).mean()\n",
    "\n",
    "    # Computes gradients for a and b parameters\n",
    "    a_grad = -2 * error.mean()\n",
    "    b_grad = -2 * (x_train * error).mean()\n",
    "\n",
    "    # Updates parameters using gradients and the learning rate\n",
    "    a = a - lr * a_grad\n",
    "    b = b - lr * b_grad\n",
    "\n",
    "print(a, b)"
   ]
  },
  {
   "cell_type": "code",
   "execution_count": 11,
   "id": "31da25cc-939c-4480-8927-b5ffef136c96",
   "metadata": {},
   "outputs": [
    {
     "name": "stdout",
     "output_type": "stream",
     "text": [
      "[1.02354075] [1.96896447]\n"
     ]
    }
   ],
   "source": [
    "# Sanity Check: do we get the same results as our manual calc?\n",
    "from sklearn.linear_model import LinearRegression\n",
    "lm = LinearRegression()\n",
    "lm.fit(x_train, y_train)\n",
    "print(lm.intercept_, lm.coef_[0])"
   ]
  },
  {
   "cell_type": "markdown",
   "id": "8a8769ef-86b1-4eda-8c1c-7d3cf6bda6b9",
   "metadata": {},
   "source": [
    "### Torching It"
   ]
  },
  {
   "cell_type": "code",
   "execution_count": 12,
   "id": "5211ded7-3171-4ca5-94c5-84750f5dd9d6",
   "metadata": {},
   "outputs": [],
   "source": [
    "import torch\n",
    "import torch.optim as optim\n",
    "import torch.nn as nn\n",
    "from torchviz import make_dot"
   ]
  },
  {
   "cell_type": "code",
   "execution_count": 13,
   "id": "5f627aae-d0ad-438e-b0a0-b840417c33b6",
   "metadata": {},
   "outputs": [
    {
     "name": "stdout",
     "output_type": "stream",
     "text": [
      "<class 'numpy.ndarray'> <class 'torch.Tensor'> torch.privateuseone.FloatTensor\n"
     ]
    }
   ],
   "source": [
    "# Our data was in Numpy arrays, but we need to transform them into PyTorch's Tensors\n",
    "# and then we send them to the chosen device\n",
    "x_train_tensor = torch.from_numpy(x_train).float().to(gpu)\n",
    "y_train_tensor = torch.from_numpy(y_train).float().to(gpu)\n",
    "\n",
    "# Here we can see the difference - notice that .type() is more useful\n",
    "# since it also tells us WHERE the tensor is (device)\n",
    "print(type(x_train),\n",
    "      type(x_train_tensor),\n",
    "      x_train_tensor.type())"
   ]
  },
  {
   "cell_type": "code",
   "execution_count": 14,
   "id": "4b43da70-672c-4b49-9650-1f5118aa120b",
   "metadata": {},
   "outputs": [
    {
     "name": "stdout",
     "output_type": "stream",
     "text": [
      "tensor([-1.0547], requires_grad=True) tensor([-0.1390], requires_grad=True)\n",
      "tensor([-0.3408], device='privateuseone:0', grad_fn=<ToCopyBackward0>) tensor([-1.1771], device='privateuseone:0', grad_fn=<ToCopyBackward0>)\n",
      "tensor([-0.8199], device='privateuseone:0', requires_grad=True) tensor([-1.9425], device='privateuseone:0', requires_grad=True)\n"
     ]
    }
   ],
   "source": [
    "# FIRST\n",
    "# Initializes parameters \"a\" and \"b\" randomly, ALMOST as we did in Numpy\n",
    "# since we want to apply gradient descent on these parameters, we need\n",
    "# to set REQUIRES_GRAD = TRUE\n",
    "a = torch.randn(1, requires_grad = True, dtype = torch.float)\n",
    "b = torch.randn(1, requires_grad = True, dtype = torch.float)\n",
    "print(a, b)\n",
    "\n",
    "# SECOND\n",
    "# But what if we want to run it on a GPU? We could just send them to device, right?\n",
    "a = torch.randn(1, requires_grad = True, dtype = torch.float).to(gpu)\n",
    "b = torch.randn(1, requires_grad = True, dtype = torch.float).to(gpu)\n",
    "print(a, b)\n",
    "\n",
    "# THIRD\n",
    "# We can either create regular tensors and send them to the device (as we did with our data)\n",
    "a = torch.randn(1, dtype = torch.float).to(gpu)\n",
    "b = torch.randn(1, dtype = torch.float).to(gpu)\n",
    "# and THEN set them as requiring gradients\n",
    "a.requires_grad_()\n",
    "b.requires_grad_()\n",
    "print(a, b)\n",
    "\n",
    "# In PyTorch, every method that ends with an underscore (_) makes changes in-place, meaning, they will modify the underlying variable."
   ]
  },
  {
   "cell_type": "code",
   "execution_count": 20,
   "id": "489662cd-61bf-4193-9d7e-fc9d69fc12c3",
   "metadata": {},
   "outputs": [
    {
     "name": "stdout",
     "output_type": "stream",
     "text": [
      "tensor([0.3367], device='privateuseone:0', requires_grad=True) tensor([0.1288], device='privateuseone:0', requires_grad=True)\n"
     ]
    }
   ],
   "source": [
    "# We can specify the device at the moment of creation - RECOMMENDED!\n",
    "torch.manual_seed(42)\n",
    "a = torch.randn(1, requires_grad = True, dtype = torch.float, device = gpu)\n",
    "b = torch.randn(1, requires_grad = True, dtype = torch.float, device = gpu)\n",
    "print(a, b)"
   ]
  },
  {
   "cell_type": "code",
   "execution_count": 23,
   "id": "71cfe991-4cf0-4333-ac8a-63af1b1d0272",
   "metadata": {},
   "outputs": [
    {
     "name": "stdout",
     "output_type": "stream",
     "text": [
      "tensor([1.0235], device='privateuseone:0', requires_grad=True) tensor([1.9690], device='privateuseone:0', requires_grad=True)\n"
     ]
    }
   ],
   "source": [
    "lr = 1e-1\n",
    "n_epochs = 1000\n",
    "\n",
    "torch.manual_seed(42)\n",
    "a = torch.randn(1, requires_grad = True, dtype = torch.float, device = gpu)\n",
    "b = torch.randn(1, requires_grad = True, dtype = torch.float, device = gpu)\n",
    "\n",
    "for epoch in range(n_epochs):\n",
    "    yhat = a + b * x_train_tensor\n",
    "    error = y_train_tensor - yhat\n",
    "    loss = (error ** 2).mean()\n",
    "\n",
    "    # No more manual computation of gradients! \n",
    "    # We just tell PyTorch to work its way BACKWARDS from the specified loss!\n",
    "    loss.backward()\n",
    "\n",
    "    # We need to use NO_GRAD to keep the update out of the gradient computation\n",
    "    # Why is that? It boils down to the DYNAMIC GRAPH that PyTorch uses...\n",
    "    with torch.no_grad():\n",
    "        a -= lr * a.grad\n",
    "        b -= lr * b.grad\n",
    "\n",
    "    # PyTorch is \"clingy\" to its computed gradients, we need to tell it to let it go...\n",
    "    a.grad.zero_()\n",
    "    b.grad.zero_()\n",
    "\n",
    "print(a, b)"
   ]
  },
  {
   "cell_type": "markdown",
   "id": "2f01781c-d577-4ac4-bf53-4d04bf2770b3",
   "metadata": {},
   "source": [
    "### Dynamic Computation Graph"
   ]
  },
  {
   "cell_type": "code",
   "execution_count": 27,
   "id": "5a8bfc10-7179-40b7-b9c8-b2a8caae2155",
   "metadata": {},
   "outputs": [],
   "source": [
    "torch.manual_seed(42)\n",
    "a = torch.randn(1, requires_grad = True, dtype = torch.float, device = gpu)\n",
    "b = torch.randn(1, requires_grad = True, dtype = torch.float, device = gpu)\n",
    "\n",
    "yhat = a + b * x_train_tensor\n",
    "error = y_train_tensor - yhat\n",
    "loss = (error ** 2).mean()"
   ]
  },
  {
   "cell_type": "code",
   "execution_count": 30,
   "id": "9a8098b5-2d3e-48b0-af5c-7bafcb69eb75",
   "metadata": {},
   "outputs": [
    {
     "data": {
      "image/svg+xml": [
       "<?xml version=\"1.0\" encoding=\"UTF-8\" standalone=\"no\"?>\n",
       "<!DOCTYPE svg PUBLIC \"-//W3C//DTD SVG 1.1//EN\"\n",
       " \"http://www.w3.org/Graphics/SVG/1.1/DTD/svg11.dtd\">\n",
       "<!-- Generated by graphviz version 2.50.0 (0)\n",
       " -->\n",
       "<!-- Pages: 1 -->\n",
       "<svg width=\"222pt\" height=\"283pt\"\n",
       " viewBox=\"0.00 0.00 222.00 283.00\" xmlns=\"http://www.w3.org/2000/svg\" xmlns:xlink=\"http://www.w3.org/1999/xlink\">\n",
       "<g id=\"graph0\" class=\"graph\" transform=\"scale(1 1) rotate(0) translate(4 279)\">\n",
       "<polygon fill=\"white\" stroke=\"transparent\" points=\"-4,4 -4,-279 218,-279 218,4 -4,4\"/>\n",
       "<!-- 2157894287664 -->\n",
       "<g id=\"node1\" class=\"node\">\n",
       "<title>2157894287664</title>\n",
       "<polygon fill=\"#caff70\" stroke=\"black\" points=\"139,-31 74,-31 74,0 139,0 139,-31\"/>\n",
       "<text text-anchor=\"middle\" x=\"106.5\" y=\"-7\" font-family=\"monospace\" font-size=\"10.00\"> (80, 1)</text>\n",
       "</g>\n",
       "<!-- 2156276476624 -->\n",
       "<g id=\"node2\" class=\"node\">\n",
       "<title>2156276476624</title>\n",
       "<polygon fill=\"lightgrey\" stroke=\"black\" points=\"151,-86 62,-86 62,-67 151,-67 151,-86\"/>\n",
       "<text text-anchor=\"middle\" x=\"106.5\" y=\"-74\" font-family=\"monospace\" font-size=\"10.00\">AddBackward0</text>\n",
       "</g>\n",
       "<!-- 2156276476624&#45;&gt;2157894287664 -->\n",
       "<g id=\"edge6\" class=\"edge\">\n",
       "<title>2156276476624&#45;&gt;2157894287664</title>\n",
       "<path fill=\"none\" stroke=\"black\" d=\"M106.5,-66.79C106.5,-60.07 106.5,-50.4 106.5,-41.34\"/>\n",
       "<polygon fill=\"black\" stroke=\"black\" points=\"110,-41.19 106.5,-31.19 103,-41.19 110,-41.19\"/>\n",
       "</g>\n",
       "<!-- 2156276472928 -->\n",
       "<g id=\"node3\" class=\"node\">\n",
       "<title>2156276472928</title>\n",
       "<polygon fill=\"lightgrey\" stroke=\"black\" points=\"101,-141 0,-141 0,-122 101,-122 101,-141\"/>\n",
       "<text text-anchor=\"middle\" x=\"50.5\" y=\"-129\" font-family=\"monospace\" font-size=\"10.00\">AccumulateGrad</text>\n",
       "</g>\n",
       "<!-- 2156276472928&#45;&gt;2156276476624 -->\n",
       "<g id=\"edge1\" class=\"edge\">\n",
       "<title>2156276472928&#45;&gt;2156276476624</title>\n",
       "<path fill=\"none\" stroke=\"black\" d=\"M59.5,-121.98C67.69,-114.23 80.01,-102.58 89.97,-93.14\"/>\n",
       "<polygon fill=\"black\" stroke=\"black\" points=\"92.48,-95.59 97.34,-86.17 87.67,-90.5 92.48,-95.59\"/>\n",
       "</g>\n",
       "<!-- 2157894302464 -->\n",
       "<g id=\"node4\" class=\"node\">\n",
       "<title>2157894302464</title>\n",
       "<polygon fill=\"lightblue\" stroke=\"black\" points=\"77.5,-208 23.5,-208 23.5,-177 77.5,-177 77.5,-208\"/>\n",
       "<text text-anchor=\"middle\" x=\"50.5\" y=\"-184\" font-family=\"monospace\" font-size=\"10.00\"> (1)</text>\n",
       "</g>\n",
       "<!-- 2157894302464&#45;&gt;2156276472928 -->\n",
       "<g id=\"edge2\" class=\"edge\">\n",
       "<title>2157894302464&#45;&gt;2156276472928</title>\n",
       "<path fill=\"none\" stroke=\"black\" d=\"M50.5,-176.92C50.5,-169.22 50.5,-159.69 50.5,-151.43\"/>\n",
       "<polygon fill=\"black\" stroke=\"black\" points=\"54,-151.25 50.5,-141.25 47,-151.25 54,-151.25\"/>\n",
       "</g>\n",
       "<!-- 2157892405616 -->\n",
       "<g id=\"node5\" class=\"node\">\n",
       "<title>2157892405616</title>\n",
       "<polygon fill=\"lightgrey\" stroke=\"black\" points=\"208,-141 119,-141 119,-122 208,-122 208,-141\"/>\n",
       "<text text-anchor=\"middle\" x=\"163.5\" y=\"-129\" font-family=\"monospace\" font-size=\"10.00\">MulBackward0</text>\n",
       "</g>\n",
       "<!-- 2157892405616&#45;&gt;2156276476624 -->\n",
       "<g id=\"edge3\" class=\"edge\">\n",
       "<title>2157892405616&#45;&gt;2156276476624</title>\n",
       "<path fill=\"none\" stroke=\"black\" d=\"M154.34,-121.98C146,-114.23 133.47,-102.58 123.32,-93.14\"/>\n",
       "<polygon fill=\"black\" stroke=\"black\" points=\"125.53,-90.42 115.82,-86.17 120.76,-95.54 125.53,-90.42\"/>\n",
       "</g>\n",
       "<!-- 2157892409024 -->\n",
       "<g id=\"node6\" class=\"node\">\n",
       "<title>2157892409024</title>\n",
       "<polygon fill=\"lightgrey\" stroke=\"black\" points=\"214,-202 113,-202 113,-183 214,-183 214,-202\"/>\n",
       "<text text-anchor=\"middle\" x=\"163.5\" y=\"-190\" font-family=\"monospace\" font-size=\"10.00\">AccumulateGrad</text>\n",
       "</g>\n",
       "<!-- 2157892409024&#45;&gt;2157892405616 -->\n",
       "<g id=\"edge4\" class=\"edge\">\n",
       "<title>2157892409024&#45;&gt;2157892405616</title>\n",
       "<path fill=\"none\" stroke=\"black\" d=\"M163.5,-182.79C163.5,-174.6 163.5,-162.06 163.5,-151.55\"/>\n",
       "<polygon fill=\"black\" stroke=\"black\" points=\"167,-151.24 163.5,-141.24 160,-151.24 167,-151.24\"/>\n",
       "</g>\n",
       "<!-- 2157894290464 -->\n",
       "<g id=\"node7\" class=\"node\">\n",
       "<title>2157894290464</title>\n",
       "<polygon fill=\"lightblue\" stroke=\"black\" points=\"190.5,-275 136.5,-275 136.5,-244 190.5,-244 190.5,-275\"/>\n",
       "<text text-anchor=\"middle\" x=\"163.5\" y=\"-251\" font-family=\"monospace\" font-size=\"10.00\"> (1)</text>\n",
       "</g>\n",
       "<!-- 2157894290464&#45;&gt;2157892409024 -->\n",
       "<g id=\"edge5\" class=\"edge\">\n",
       "<title>2157894290464&#45;&gt;2157892409024</title>\n",
       "<path fill=\"none\" stroke=\"black\" d=\"M163.5,-243.75C163.5,-234.39 163.5,-222.19 163.5,-212.16\"/>\n",
       "<polygon fill=\"black\" stroke=\"black\" points=\"167,-212.02 163.5,-202.02 160,-212.02 167,-212.02\"/>\n",
       "</g>\n",
       "</g>\n",
       "</svg>\n"
      ],
      "text/plain": [
       "<graphviz.graphs.Digraph at 0x1f66c6ae3b0>"
      ]
     },
     "execution_count": 30,
     "metadata": {},
     "output_type": "execute_result"
    }
   ],
   "source": [
    "make_dot(yhat)"
   ]
  },
  {
   "cell_type": "code",
   "execution_count": 31,
   "id": "42832e1f-17d7-459e-bef2-f495a91c69c1",
   "metadata": {},
   "outputs": [
    {
     "data": {
      "image/svg+xml": [
       "<?xml version=\"1.0\" encoding=\"UTF-8\" standalone=\"no\"?>\n",
       "<!DOCTYPE svg PUBLIC \"-//W3C//DTD SVG 1.1//EN\"\n",
       " \"http://www.w3.org/Graphics/SVG/1.1/DTD/svg11.dtd\">\n",
       "<!-- Generated by graphviz version 2.50.0 (0)\n",
       " -->\n",
       "<!-- Pages: 1 -->\n",
       "<svg width=\"222pt\" height=\"338pt\"\n",
       " viewBox=\"0.00 0.00 222.00 338.00\" xmlns=\"http://www.w3.org/2000/svg\" xmlns:xlink=\"http://www.w3.org/1999/xlink\">\n",
       "<g id=\"graph0\" class=\"graph\" transform=\"scale(1 1) rotate(0) translate(4 334)\">\n",
       "<polygon fill=\"white\" stroke=\"transparent\" points=\"-4,4 -4,-334 218,-334 218,4 -4,4\"/>\n",
       "<!-- 2157894290384 -->\n",
       "<g id=\"node1\" class=\"node\">\n",
       "<title>2157894290384</title>\n",
       "<polygon fill=\"#caff70\" stroke=\"black\" points=\"139,-31 74,-31 74,0 139,0 139,-31\"/>\n",
       "<text text-anchor=\"middle\" x=\"106.5\" y=\"-7\" font-family=\"monospace\" font-size=\"10.00\"> (80, 1)</text>\n",
       "</g>\n",
       "<!-- 2157893246720 -->\n",
       "<g id=\"node2\" class=\"node\">\n",
       "<title>2157893246720</title>\n",
       "<polygon fill=\"lightgrey\" stroke=\"black\" points=\"151,-86 62,-86 62,-67 151,-67 151,-86\"/>\n",
       "<text text-anchor=\"middle\" x=\"106.5\" y=\"-74\" font-family=\"monospace\" font-size=\"10.00\">SubBackward0</text>\n",
       "</g>\n",
       "<!-- 2157893246720&#45;&gt;2157894290384 -->\n",
       "<g id=\"edge7\" class=\"edge\">\n",
       "<title>2157893246720&#45;&gt;2157894290384</title>\n",
       "<path fill=\"none\" stroke=\"black\" d=\"M106.5,-66.79C106.5,-60.07 106.5,-50.4 106.5,-41.34\"/>\n",
       "<polygon fill=\"black\" stroke=\"black\" points=\"110,-41.19 106.5,-31.19 103,-41.19 110,-41.19\"/>\n",
       "</g>\n",
       "<!-- 2156276476624 -->\n",
       "<g id=\"node3\" class=\"node\">\n",
       "<title>2156276476624</title>\n",
       "<polygon fill=\"lightgrey\" stroke=\"black\" points=\"151,-141 62,-141 62,-122 151,-122 151,-141\"/>\n",
       "<text text-anchor=\"middle\" x=\"106.5\" y=\"-129\" font-family=\"monospace\" font-size=\"10.00\">AddBackward0</text>\n",
       "</g>\n",
       "<!-- 2156276476624&#45;&gt;2157893246720 -->\n",
       "<g id=\"edge1\" class=\"edge\">\n",
       "<title>2156276476624&#45;&gt;2157893246720</title>\n",
       "<path fill=\"none\" stroke=\"black\" d=\"M106.5,-121.75C106.5,-114.8 106.5,-104.85 106.5,-96.13\"/>\n",
       "<polygon fill=\"black\" stroke=\"black\" points=\"110,-96.09 106.5,-86.09 103,-96.09 110,-96.09\"/>\n",
       "</g>\n",
       "<!-- 2156276472928 -->\n",
       "<g id=\"node4\" class=\"node\">\n",
       "<title>2156276472928</title>\n",
       "<polygon fill=\"lightgrey\" stroke=\"black\" points=\"101,-196 0,-196 0,-177 101,-177 101,-196\"/>\n",
       "<text text-anchor=\"middle\" x=\"50.5\" y=\"-184\" font-family=\"monospace\" font-size=\"10.00\">AccumulateGrad</text>\n",
       "</g>\n",
       "<!-- 2156276472928&#45;&gt;2156276476624 -->\n",
       "<g id=\"edge2\" class=\"edge\">\n",
       "<title>2156276472928&#45;&gt;2156276476624</title>\n",
       "<path fill=\"none\" stroke=\"black\" d=\"M59.5,-176.98C67.69,-169.23 80.01,-157.58 89.97,-148.14\"/>\n",
       "<polygon fill=\"black\" stroke=\"black\" points=\"92.48,-150.59 97.34,-141.17 87.67,-145.5 92.48,-150.59\"/>\n",
       "</g>\n",
       "<!-- 2157894302464 -->\n",
       "<g id=\"node5\" class=\"node\">\n",
       "<title>2157894302464</title>\n",
       "<polygon fill=\"lightblue\" stroke=\"black\" points=\"77.5,-263 23.5,-263 23.5,-232 77.5,-232 77.5,-263\"/>\n",
       "<text text-anchor=\"middle\" x=\"50.5\" y=\"-239\" font-family=\"monospace\" font-size=\"10.00\"> (1)</text>\n",
       "</g>\n",
       "<!-- 2157894302464&#45;&gt;2156276472928 -->\n",
       "<g id=\"edge3\" class=\"edge\">\n",
       "<title>2157894302464&#45;&gt;2156276472928</title>\n",
       "<path fill=\"none\" stroke=\"black\" d=\"M50.5,-231.92C50.5,-224.22 50.5,-214.69 50.5,-206.43\"/>\n",
       "<polygon fill=\"black\" stroke=\"black\" points=\"54,-206.25 50.5,-196.25 47,-206.25 54,-206.25\"/>\n",
       "</g>\n",
       "<!-- 2157892405616 -->\n",
       "<g id=\"node6\" class=\"node\">\n",
       "<title>2157892405616</title>\n",
       "<polygon fill=\"lightgrey\" stroke=\"black\" points=\"208,-196 119,-196 119,-177 208,-177 208,-196\"/>\n",
       "<text text-anchor=\"middle\" x=\"163.5\" y=\"-184\" font-family=\"monospace\" font-size=\"10.00\">MulBackward0</text>\n",
       "</g>\n",
       "<!-- 2157892405616&#45;&gt;2156276476624 -->\n",
       "<g id=\"edge4\" class=\"edge\">\n",
       "<title>2157892405616&#45;&gt;2156276476624</title>\n",
       "<path fill=\"none\" stroke=\"black\" d=\"M154.34,-176.98C146,-169.23 133.47,-157.58 123.32,-148.14\"/>\n",
       "<polygon fill=\"black\" stroke=\"black\" points=\"125.53,-145.42 115.82,-141.17 120.76,-150.54 125.53,-145.42\"/>\n",
       "</g>\n",
       "<!-- 2157892409024 -->\n",
       "<g id=\"node7\" class=\"node\">\n",
       "<title>2157892409024</title>\n",
       "<polygon fill=\"lightgrey\" stroke=\"black\" points=\"214,-257 113,-257 113,-238 214,-238 214,-257\"/>\n",
       "<text text-anchor=\"middle\" x=\"163.5\" y=\"-245\" font-family=\"monospace\" font-size=\"10.00\">AccumulateGrad</text>\n",
       "</g>\n",
       "<!-- 2157892409024&#45;&gt;2157892405616 -->\n",
       "<g id=\"edge5\" class=\"edge\">\n",
       "<title>2157892409024&#45;&gt;2157892405616</title>\n",
       "<path fill=\"none\" stroke=\"black\" d=\"M163.5,-237.79C163.5,-229.6 163.5,-217.06 163.5,-206.55\"/>\n",
       "<polygon fill=\"black\" stroke=\"black\" points=\"167,-206.24 163.5,-196.24 160,-206.24 167,-206.24\"/>\n",
       "</g>\n",
       "<!-- 2157894290464 -->\n",
       "<g id=\"node8\" class=\"node\">\n",
       "<title>2157894290464</title>\n",
       "<polygon fill=\"lightblue\" stroke=\"black\" points=\"190.5,-330 136.5,-330 136.5,-299 190.5,-299 190.5,-330\"/>\n",
       "<text text-anchor=\"middle\" x=\"163.5\" y=\"-306\" font-family=\"monospace\" font-size=\"10.00\"> (1)</text>\n",
       "</g>\n",
       "<!-- 2157894290464&#45;&gt;2157892409024 -->\n",
       "<g id=\"edge6\" class=\"edge\">\n",
       "<title>2157894290464&#45;&gt;2157892409024</title>\n",
       "<path fill=\"none\" stroke=\"black\" d=\"M163.5,-298.75C163.5,-289.39 163.5,-277.19 163.5,-267.16\"/>\n",
       "<polygon fill=\"black\" stroke=\"black\" points=\"167,-267.02 163.5,-257.02 160,-267.02 167,-267.02\"/>\n",
       "</g>\n",
       "</g>\n",
       "</svg>\n"
      ],
      "text/plain": [
       "<graphviz.graphs.Digraph at 0x1f66554e590>"
      ]
     },
     "execution_count": 31,
     "metadata": {},
     "output_type": "execute_result"
    }
   ],
   "source": [
    "make_dot(error)"
   ]
  },
  {
   "cell_type": "code",
   "execution_count": 32,
   "id": "ee79aa82-10c2-4f39-b53c-e31415f43053",
   "metadata": {},
   "outputs": [
    {
     "data": {
      "image/svg+xml": [
       "<?xml version=\"1.0\" encoding=\"UTF-8\" standalone=\"no\"?>\n",
       "<!DOCTYPE svg PUBLIC \"-//W3C//DTD SVG 1.1//EN\"\n",
       " \"http://www.w3.org/Graphics/SVG/1.1/DTD/svg11.dtd\">\n",
       "<!-- Generated by graphviz version 2.50.0 (0)\n",
       " -->\n",
       "<!-- Pages: 1 -->\n",
       "<svg width=\"222pt\" height=\"448pt\"\n",
       " viewBox=\"0.00 0.00 222.00 448.00\" xmlns=\"http://www.w3.org/2000/svg\" xmlns:xlink=\"http://www.w3.org/1999/xlink\">\n",
       "<g id=\"graph0\" class=\"graph\" transform=\"scale(1 1) rotate(0) translate(4 444)\">\n",
       "<polygon fill=\"white\" stroke=\"transparent\" points=\"-4,4 -4,-444 218,-444 218,4 -4,4\"/>\n",
       "<!-- 2157894288944 -->\n",
       "<g id=\"node1\" class=\"node\">\n",
       "<title>2157894288944</title>\n",
       "<polygon fill=\"#caff70\" stroke=\"black\" points=\"133.5,-31 79.5,-31 79.5,0 133.5,0 133.5,-31\"/>\n",
       "<text text-anchor=\"middle\" x=\"106.5\" y=\"-7\" font-family=\"monospace\" font-size=\"10.00\"> ()</text>\n",
       "</g>\n",
       "<!-- 2157892964640 -->\n",
       "<g id=\"node2\" class=\"node\">\n",
       "<title>2157892964640</title>\n",
       "<polygon fill=\"lightgrey\" stroke=\"black\" points=\"154,-86 59,-86 59,-67 154,-67 154,-86\"/>\n",
       "<text text-anchor=\"middle\" x=\"106.5\" y=\"-74\" font-family=\"monospace\" font-size=\"10.00\">MeanBackward0</text>\n",
       "</g>\n",
       "<!-- 2157892964640&#45;&gt;2157894288944 -->\n",
       "<g id=\"edge9\" class=\"edge\">\n",
       "<title>2157892964640&#45;&gt;2157894288944</title>\n",
       "<path fill=\"none\" stroke=\"black\" d=\"M106.5,-66.79C106.5,-60.07 106.5,-50.4 106.5,-41.34\"/>\n",
       "<polygon fill=\"black\" stroke=\"black\" points=\"110,-41.19 106.5,-31.19 103,-41.19 110,-41.19\"/>\n",
       "</g>\n",
       "<!-- 2157892595728 -->\n",
       "<g id=\"node3\" class=\"node\">\n",
       "<title>2157892595728</title>\n",
       "<polygon fill=\"lightgrey\" stroke=\"black\" points=\"151,-141 62,-141 62,-122 151,-122 151,-141\"/>\n",
       "<text text-anchor=\"middle\" x=\"106.5\" y=\"-129\" font-family=\"monospace\" font-size=\"10.00\">PowBackward0</text>\n",
       "</g>\n",
       "<!-- 2157892595728&#45;&gt;2157892964640 -->\n",
       "<g id=\"edge1\" class=\"edge\">\n",
       "<title>2157892595728&#45;&gt;2157892964640</title>\n",
       "<path fill=\"none\" stroke=\"black\" d=\"M106.5,-121.75C106.5,-114.8 106.5,-104.85 106.5,-96.13\"/>\n",
       "<polygon fill=\"black\" stroke=\"black\" points=\"110,-96.09 106.5,-86.09 103,-96.09 110,-96.09\"/>\n",
       "</g>\n",
       "<!-- 2157893246720 -->\n",
       "<g id=\"node4\" class=\"node\">\n",
       "<title>2157893246720</title>\n",
       "<polygon fill=\"lightgrey\" stroke=\"black\" points=\"151,-196 62,-196 62,-177 151,-177 151,-196\"/>\n",
       "<text text-anchor=\"middle\" x=\"106.5\" y=\"-184\" font-family=\"monospace\" font-size=\"10.00\">SubBackward0</text>\n",
       "</g>\n",
       "<!-- 2157893246720&#45;&gt;2157892595728 -->\n",
       "<g id=\"edge2\" class=\"edge\">\n",
       "<title>2157893246720&#45;&gt;2157892595728</title>\n",
       "<path fill=\"none\" stroke=\"black\" d=\"M106.5,-176.75C106.5,-169.8 106.5,-159.85 106.5,-151.13\"/>\n",
       "<polygon fill=\"black\" stroke=\"black\" points=\"110,-151.09 106.5,-141.09 103,-151.09 110,-151.09\"/>\n",
       "</g>\n",
       "<!-- 2156276476624 -->\n",
       "<g id=\"node5\" class=\"node\">\n",
       "<title>2156276476624</title>\n",
       "<polygon fill=\"lightgrey\" stroke=\"black\" points=\"151,-251 62,-251 62,-232 151,-232 151,-251\"/>\n",
       "<text text-anchor=\"middle\" x=\"106.5\" y=\"-239\" font-family=\"monospace\" font-size=\"10.00\">AddBackward0</text>\n",
       "</g>\n",
       "<!-- 2156276476624&#45;&gt;2157893246720 -->\n",
       "<g id=\"edge3\" class=\"edge\">\n",
       "<title>2156276476624&#45;&gt;2157893246720</title>\n",
       "<path fill=\"none\" stroke=\"black\" d=\"M106.5,-231.75C106.5,-224.8 106.5,-214.85 106.5,-206.13\"/>\n",
       "<polygon fill=\"black\" stroke=\"black\" points=\"110,-206.09 106.5,-196.09 103,-206.09 110,-206.09\"/>\n",
       "</g>\n",
       "<!-- 2156276472928 -->\n",
       "<g id=\"node6\" class=\"node\">\n",
       "<title>2156276472928</title>\n",
       "<polygon fill=\"lightgrey\" stroke=\"black\" points=\"101,-306 0,-306 0,-287 101,-287 101,-306\"/>\n",
       "<text text-anchor=\"middle\" x=\"50.5\" y=\"-294\" font-family=\"monospace\" font-size=\"10.00\">AccumulateGrad</text>\n",
       "</g>\n",
       "<!-- 2156276472928&#45;&gt;2156276476624 -->\n",
       "<g id=\"edge4\" class=\"edge\">\n",
       "<title>2156276472928&#45;&gt;2156276476624</title>\n",
       "<path fill=\"none\" stroke=\"black\" d=\"M59.5,-286.98C67.69,-279.23 80.01,-267.58 89.97,-258.14\"/>\n",
       "<polygon fill=\"black\" stroke=\"black\" points=\"92.48,-260.59 97.34,-251.17 87.67,-255.5 92.48,-260.59\"/>\n",
       "</g>\n",
       "<!-- 2157894302464 -->\n",
       "<g id=\"node7\" class=\"node\">\n",
       "<title>2157894302464</title>\n",
       "<polygon fill=\"lightblue\" stroke=\"black\" points=\"77.5,-373 23.5,-373 23.5,-342 77.5,-342 77.5,-373\"/>\n",
       "<text text-anchor=\"middle\" x=\"50.5\" y=\"-349\" font-family=\"monospace\" font-size=\"10.00\"> (1)</text>\n",
       "</g>\n",
       "<!-- 2157894302464&#45;&gt;2156276472928 -->\n",
       "<g id=\"edge5\" class=\"edge\">\n",
       "<title>2157894302464&#45;&gt;2156276472928</title>\n",
       "<path fill=\"none\" stroke=\"black\" d=\"M50.5,-341.92C50.5,-334.22 50.5,-324.69 50.5,-316.43\"/>\n",
       "<polygon fill=\"black\" stroke=\"black\" points=\"54,-316.25 50.5,-306.25 47,-316.25 54,-316.25\"/>\n",
       "</g>\n",
       "<!-- 2157892405616 -->\n",
       "<g id=\"node8\" class=\"node\">\n",
       "<title>2157892405616</title>\n",
       "<polygon fill=\"lightgrey\" stroke=\"black\" points=\"208,-306 119,-306 119,-287 208,-287 208,-306\"/>\n",
       "<text text-anchor=\"middle\" x=\"163.5\" y=\"-294\" font-family=\"monospace\" font-size=\"10.00\">MulBackward0</text>\n",
       "</g>\n",
       "<!-- 2157892405616&#45;&gt;2156276476624 -->\n",
       "<g id=\"edge6\" class=\"edge\">\n",
       "<title>2157892405616&#45;&gt;2156276476624</title>\n",
       "<path fill=\"none\" stroke=\"black\" d=\"M154.34,-286.98C146,-279.23 133.47,-267.58 123.32,-258.14\"/>\n",
       "<polygon fill=\"black\" stroke=\"black\" points=\"125.53,-255.42 115.82,-251.17 120.76,-260.54 125.53,-255.42\"/>\n",
       "</g>\n",
       "<!-- 2157892409024 -->\n",
       "<g id=\"node9\" class=\"node\">\n",
       "<title>2157892409024</title>\n",
       "<polygon fill=\"lightgrey\" stroke=\"black\" points=\"214,-367 113,-367 113,-348 214,-348 214,-367\"/>\n",
       "<text text-anchor=\"middle\" x=\"163.5\" y=\"-355\" font-family=\"monospace\" font-size=\"10.00\">AccumulateGrad</text>\n",
       "</g>\n",
       "<!-- 2157892409024&#45;&gt;2157892405616 -->\n",
       "<g id=\"edge7\" class=\"edge\">\n",
       "<title>2157892409024&#45;&gt;2157892405616</title>\n",
       "<path fill=\"none\" stroke=\"black\" d=\"M163.5,-347.79C163.5,-339.6 163.5,-327.06 163.5,-316.55\"/>\n",
       "<polygon fill=\"black\" stroke=\"black\" points=\"167,-316.24 163.5,-306.24 160,-316.24 167,-316.24\"/>\n",
       "</g>\n",
       "<!-- 2157894290464 -->\n",
       "<g id=\"node10\" class=\"node\">\n",
       "<title>2157894290464</title>\n",
       "<polygon fill=\"lightblue\" stroke=\"black\" points=\"190.5,-440 136.5,-440 136.5,-409 190.5,-409 190.5,-440\"/>\n",
       "<text text-anchor=\"middle\" x=\"163.5\" y=\"-416\" font-family=\"monospace\" font-size=\"10.00\"> (1)</text>\n",
       "</g>\n",
       "<!-- 2157894290464&#45;&gt;2157892409024 -->\n",
       "<g id=\"edge8\" class=\"edge\">\n",
       "<title>2157894290464&#45;&gt;2157892409024</title>\n",
       "<path fill=\"none\" stroke=\"black\" d=\"M163.5,-408.75C163.5,-399.39 163.5,-387.19 163.5,-377.16\"/>\n",
       "<polygon fill=\"black\" stroke=\"black\" points=\"167,-377.02 163.5,-367.02 160,-377.02 167,-377.02\"/>\n",
       "</g>\n",
       "</g>\n",
       "</svg>\n"
      ],
      "text/plain": [
       "<graphviz.graphs.Digraph at 0x1f66554f4c0>"
      ]
     },
     "execution_count": 32,
     "metadata": {},
     "output_type": "execute_result"
    }
   ],
   "source": [
    "make_dot(loss)"
   ]
  },
  {
   "cell_type": "markdown",
   "id": "87fca9a0-5648-4d91-8980-e8c6c711bd5d",
   "metadata": {},
   "source": [
    "# Optimizer and Loss Function"
   ]
  },
  {
   "cell_type": "code",
   "execution_count": 35,
   "id": "961352f6-e220-4082-b358-9e4818eba71e",
   "metadata": {},
   "outputs": [
    {
     "name": "stdout",
     "output_type": "stream",
     "text": [
      "tensor([0.3367], device='privateuseone:0', requires_grad=True) tensor([0.1288], device='privateuseone:0', requires_grad=True)\n",
      "tensor([1.0235], device='privateuseone:0', requires_grad=True) tensor([1.9690], device='privateuseone:0', requires_grad=True)\n"
     ]
    }
   ],
   "source": [
    "torch.manual_seed(42)\n",
    "a = torch.randn(1, requires_grad = True, dtype = torch.float, device = gpu)\n",
    "b = torch.randn(1, requires_grad = True, dtype = torch.float, device = gpu)\n",
    "print(a, b)\n",
    "\n",
    "lr = 1e-1\n",
    "n_epochs = 1000\n",
    "\n",
    "# Defines a SGD optimizer to update the parameters\n",
    "optimizer = optim.SGD([a, b], lr = lr)\n",
    "\n",
    "for epoch in range(n_epochs):\n",
    "    yhat = a + b * x_train_tensor\n",
    "    error = y_train_tensor - yhat\n",
    "    loss = (error ** 2).mean()\n",
    "\n",
    "    loss.backward()\n",
    "\n",
    "    # No more manual update!\n",
    "    optimizer.step()\n",
    "\n",
    "    # No need to tell PyTorch to let gradients go\n",
    "    optimizer.zero_grad()\n",
    "\n",
    "print(a, b)"
   ]
  },
  {
   "cell_type": "code",
   "execution_count": 36,
   "id": "9fbf6f2d-f86e-4647-a0e1-698e6ea01f7e",
   "metadata": {},
   "outputs": [
    {
     "name": "stdout",
     "output_type": "stream",
     "text": [
      "tensor([0.3367], device='privateuseone:0', requires_grad=True) tensor([0.1288], device='privateuseone:0', requires_grad=True)\n",
      "tensor([1.0235], device='privateuseone:0', requires_grad=True) tensor([1.9690], device='privateuseone:0', requires_grad=True)\n"
     ]
    }
   ],
   "source": [
    "torch.manual_seed(42)\n",
    "a = torch.randn(1, requires_grad = True, dtype = torch.float, device = gpu)\n",
    "b = torch.randn(1, requires_grad = True, dtype = torch.float, device = gpu)\n",
    "print(a, b)\n",
    "\n",
    "lr = 1e-1\n",
    "n_epochs = 1000\n",
    "\n",
    "optimizer = optim.SGD([a, b], lr = lr)\n",
    "\n",
    "# Defines a MSE loss function\n",
    "loss_fn = nn.MSELoss(reduction = 'mean')\n",
    "\n",
    "for epoch in range(n_epochs):\n",
    "    yhat = a + b * x_train_tensor\n",
    "\n",
    "    # No more manual loss!\n",
    "    loss = loss_fn(y_train_tensor, yhat)\n",
    "    \n",
    "    loss.backward()\n",
    "    optimizer.step()\n",
    "    optimizer.zero_grad()\n",
    "\n",
    "print(a, b)"
   ]
  },
  {
   "cell_type": "markdown",
   "id": "ba50d0d1-994a-45b9-a6e4-025357c87ba1",
   "metadata": {},
   "source": [
    "## Model Class"
   ]
  },
  {
   "cell_type": "code",
   "execution_count": 38,
   "id": "fa02fb52-5d79-474e-b1ec-6da6000f12f2",
   "metadata": {},
   "outputs": [],
   "source": [
    "class ManualLinearRegression(nn.Module):\n",
    "    def __init__(self):\n",
    "        super().__init__()\n",
    "        # To make a and b real parameters, we need to wrap them in nn.Parameter()\n",
    "        self.a = nn.Parameter(torch.randn(1, requires_grad = True, dtype = torch.float))\n",
    "        self.b = nn.Parameter(torch.randn(1, requires_grad = True, dtype = torch.float))\n",
    "\n",
    "    def forward(self, x):\n",
    "        # Computes outputs / predictions\n",
    "        return self.a + self.b * x"
   ]
  },
  {
   "cell_type": "code",
   "execution_count": 40,
   "id": "2c02830f-551d-4c57-8f84-d6bf57b8cd8e",
   "metadata": {},
   "outputs": [
    {
     "name": "stdout",
     "output_type": "stream",
     "text": [
      "OrderedDict([('a', tensor([0.3367], device='privateuseone:0')), ('b', tensor([0.1288], device='privateuseone:0'))])\n",
      "OrderedDict([('a', tensor([1.0235], device='privateuseone:0')), ('b', tensor([1.9690], device='privateuseone:0'))])\n"
     ]
    }
   ],
   "source": [
    "torch.manual_seed(42)\n",
    "\n",
    "# Now we can create a model and send it at once to the device\n",
    "model = ManualLinearRegression().to(gpu)\n",
    "# We can also inspect its parameters using its state_dict\n",
    "print(model.state_dict())\n",
    "\n",
    "lr = 1e-1\n",
    "n_epochs = 1000\n",
    "\n",
    "loss_fn = nn.MSELoss(reduction = 'mean')\n",
    "optimizer = optim.SGD(model.parameters(), lr = lr)\n",
    "\n",
    "for epoch in range(n_epochs):\n",
    "    model.train()\n",
    "    \n",
    "    yhat = model(x_train_tensor)\n",
    "    \n",
    "    loss = loss_fn(y_train_tensor, yhat)\n",
    "    loss.backward()\n",
    "    optimizer.step()\n",
    "    optimizer.zero_grad()\n",
    "\n",
    "print(model.state_dict())"
   ]
  },
  {
   "cell_type": "code",
   "execution_count": 41,
   "id": "25e6f8ee-8b0b-4bb0-be4e-bbc33c986097",
   "metadata": {},
   "outputs": [],
   "source": [
    "class LayerLinearModel(nn.Module):\n",
    "    def __init__(self):\n",
    "        super().__init__()\n",
    "        # Instead of our custom parameters, we use a Linear layer with single input and single output\n",
    "        self.linear = nn.Linear(1, 1)\n",
    "\n",
    "    def forward(self, x):\n",
    "        # Now it only takes a call to the layer to make predictions\n",
    "        return self.linear(x)"
   ]
  },
  {
   "cell_type": "code",
   "execution_count": 43,
   "id": "2fc91362-8e29-4e44-b3c3-e4aae1b19833",
   "metadata": {},
   "outputs": [],
   "source": [
    "model = nn.Sequential(nn.Linear(1, 1)).to(gpu)"
   ]
  },
  {
   "cell_type": "code",
   "execution_count": 45,
   "id": "dc09a0d1-0a66-4a72-b1b8-292e3c3aad9c",
   "metadata": {},
   "outputs": [
    {
     "name": "stdout",
     "output_type": "stream",
     "text": [
      "OrderedDict([('0.weight', tensor([[-0.4869]], device='privateuseone:0')), ('0.bias', tensor([0.5873], device='privateuseone:0'))])\n"
     ]
    }
   ],
   "source": [
    "def make_train_step(model, loss_fn, optimizer):\n",
    "    # Builds function that performs a step in the train loop\n",
    "    \n",
    "    def train_step(x, y):\n",
    "        # Sets model to TRAIN mode\n",
    "        model.train()\n",
    "        # Makes predictions\n",
    "        yhat = model(x)\n",
    "        # Computes loss\n",
    "        loss = loss_fn(y, yhat)\n",
    "        # Computes gradients\n",
    "        loss.backward()\n",
    "        # Updates parameters and zeroes gradients\n",
    "        optimizer.step()\n",
    "        optimizer.zero_grad()\n",
    "        # Returns the loss\n",
    "        return loss.item()\n",
    "    \n",
    "    # Returns the function that will be called inside the train loop\n",
    "    return train_step\n",
    "\n",
    "train_step = make_train_step(model, loss_fn, optimizer)\n",
    "losses = []\n",
    "\n",
    "for epoch in range(n_epochs):\n",
    "    # Performs one train step and returns the corresponding loss\n",
    "    loss = train_step(x_train_tensor, y_train_tensor)\n",
    "    losses.append(loss)\n",
    "\n",
    "# Check model's params\n",
    "print(model.state_dict())"
   ]
  },
  {
   "cell_type": "code",
   "execution_count": null,
   "id": "d318bd06-a32b-4115-9d0b-04b14002be8b",
   "metadata": {},
   "outputs": [],
   "source": []
  },
  {
   "cell_type": "code",
   "execution_count": null,
   "id": "60402de6-9bb9-4740-ae0a-ac5f9f4843de",
   "metadata": {},
   "outputs": [],
   "source": []
  },
  {
   "cell_type": "code",
   "execution_count": null,
   "id": "916c78db-f138-4b0b-abc4-5e5229c0a470",
   "metadata": {},
   "outputs": [],
   "source": []
  },
  {
   "cell_type": "code",
   "execution_count": null,
   "id": "b95aa929-baa4-4fc5-a152-90f198ffc27d",
   "metadata": {},
   "outputs": [],
   "source": []
  },
  {
   "cell_type": "code",
   "execution_count": null,
   "id": "d87c951c-96eb-4dfe-a801-f7f4a42f58fb",
   "metadata": {},
   "outputs": [],
   "source": []
  },
  {
   "cell_type": "code",
   "execution_count": null,
   "id": "8d8b7390-c5ba-4d4b-8664-c2392409e67e",
   "metadata": {},
   "outputs": [],
   "source": []
  },
  {
   "cell_type": "code",
   "execution_count": null,
   "id": "5b08a55f-fdd0-40f2-ada2-b08d5be78972",
   "metadata": {},
   "outputs": [],
   "source": []
  },
  {
   "cell_type": "code",
   "execution_count": null,
   "id": "282a9f77-4a68-4a55-a47c-8f5ebbb8ba70",
   "metadata": {},
   "outputs": [],
   "source": []
  },
  {
   "cell_type": "code",
   "execution_count": null,
   "id": "26800479-5f29-4546-a16b-a560fff23800",
   "metadata": {},
   "outputs": [],
   "source": []
  },
  {
   "cell_type": "code",
   "execution_count": null,
   "id": "1d857136-2408-45c5-80b9-fecf5ab9811d",
   "metadata": {},
   "outputs": [],
   "source": []
  }
 ],
 "metadata": {
  "kernelspec": {
   "display_name": "Python 3 (ipykernel)",
   "language": "python",
   "name": "python3"
  },
  "language_info": {
   "codemirror_mode": {
    "name": "ipython",
    "version": 3
   },
   "file_extension": ".py",
   "mimetype": "text/x-python",
   "name": "python",
   "nbconvert_exporter": "python",
   "pygments_lexer": "ipython3",
   "version": "3.10.13"
  }
 },
 "nbformat": 4,
 "nbformat_minor": 5
}
